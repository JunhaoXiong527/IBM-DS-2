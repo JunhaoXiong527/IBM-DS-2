{
  "cells": [
    {
      "cell_type": "markdown",
      "metadata": {
        "id": "X1Fv4oqI9RA7"
      },
      "source": [
        "<center>\n",
        "    <img src=\"https://cf-courses-data.s3.us.cloud-object-storage.appdomain.cloud/IBMDeveloperSkillsNetwork-DS0105EN-SkillsNetwork/labs/Module2/images/SN_web_lightmode.png\" width=\"300\" alt=\"cognitiveclass.ai logo\">\n",
        "</center>\n"
      ]
    },
    {
      "cell_type": "markdown",
      "metadata": {
        "id": "bCuoWvzv9RA_"
      },
      "source": [
        "#### Add your code below following the instructions given in the course\n"
      ]
    },
    {
      "cell_type": "markdown",
      "metadata": {
        "id": "Ibnpbp0m9RBA"
      },
      "source": [
        "1. Title"
      ]
    },
    {
      "cell_type": "markdown",
      "metadata": {
        "id": "mp7hmO-c9RBB"
      },
      "source": [
        "# Data Science Tools and Ecosystem"
      ]
    },
    {
      "cell_type": "markdown",
      "metadata": {
        "id": "PCGzfmI_9RBB"
      },
      "source": [
        "2. Introduction"
      ]
    },
    {
      "cell_type": "markdown",
      "metadata": {
        "id": "cmIkkI2E9RBB"
      },
      "source": [
        "In this notebook, Data Science Tools and Ecosystem are summarized."
      ]
    },
    {
      "cell_type": "markdown",
      "metadata": {
        "id": "Yc0HCrlS9RBC"
      },
      "source": [
        "3. List of data science languages"
      ]
    },
    {
      "cell_type": "markdown",
      "metadata": {
        "id": "byQT-xLo9RBD"
      },
      "source": [
        "Some of the popular languages that Data Scientists use are:\n",
        "\n",
        "1. Python\n",
        "2. R\n",
        "3. SQL\n",
        "4. Java\n",
        "5. C/C++"
      ]
    },
    {
      "cell_type": "markdown",
      "metadata": {
        "id": "EjwFztjL9RBD"
      },
      "source": [
        "4. List of data science libraries"
      ]
    },
    {
      "cell_type": "markdown",
      "metadata": {
        "id": "VOnbqQfP9RBE"
      },
      "source": [
        "Some of the commonly used libraries used by Data Scientists include:\n",
        "\n",
        "1. TensorFlow\n",
        "2. Pandas\n",
        "3. Keras\n",
        "4. SciKit-Learn\n",
        "5. PyTorch"
      ]
    },
    {
      "cell_type": "markdown",
      "metadata": {
        "id": "a4ighRxq9RBE"
      },
      "source": [
        "5. Table of Data Science tools"
      ]
    },
    {
      "cell_type": "markdown",
      "metadata": {
        "id": "oF8J0B839RBF"
      },
      "source": [
        "Some of the commonly used tools used by Data Scientists include:\n",
        "\n",
        "|Tool|\n",
        "|---|\n",
        "|Jupyter Notebook|\n",
        "|RStudio|\n",
        "|Anaconda|\n",
        "|GitHub|\n",
        "|IBM Cloud|"
      ]
    },
    {
      "cell_type": "markdown",
      "metadata": {
        "id": "x-EzD4Ah9RBF"
      },
      "source": [
        "6. Introducing arithmetic expression examples"
      ]
    },
    {
      "cell_type": "markdown",
      "metadata": {
        "id": "UZF97YSD9RBF"
      },
      "source": [
        "### Below are a few examples of evaluating arithmetic expressions in Python"
      ]
    },
    {
      "cell_type": "markdown",
      "metadata": {
        "id": "_ZUEOs3d9RBF"
      },
      "source": [
        "7. Multiply and add numbers"
      ]
    },
    {
      "cell_type": "code",
      "execution_count": null,
      "metadata": {
        "id": "O5VQPNiw9RBL",
        "outputId": "68354ff2-66f6-439a-fe09-7b30ff5e12a9"
      },
      "outputs": [
        {
          "data": {
            "text/plain": [
              "17"
            ]
          },
          "execution_count": 3,
          "metadata": {},
          "output_type": "execute_result"
        }
      ],
      "source": [
        "# This a simple arithmetic expression to mutiply then add integers\n",
        "\n",
        "(3*4)+5"
      ]
    },
    {
      "cell_type": "markdown",
      "metadata": {
        "id": "9J_92qAg9RBM"
      },
      "source": [
        "8. Convert minutes to hours"
      ]
    },
    {
      "cell_type": "code",
      "execution_count": null,
      "metadata": {
        "id": "rsGrKtg19RBN",
        "outputId": "d73365d7-adc9-4ccb-9927-b1b31c22167d"
      },
      "outputs": [
        {
          "name": "stdout",
          "output_type": "stream",
          "text": [
            "200 mins equal to 3.3333333333333335 hours.\n"
          ]
        }
      ],
      "source": [
        "# This will convert 200 minutes to hours by diving by 60\n",
        "\n",
        "print(f\"200 mins equal to {200/60} hours.\")"
      ]
    },
    {
      "cell_type": "markdown",
      "metadata": {
        "id": "bhr0Sux59RBN"
      },
      "source": [
        "9. List of Objectives"
      ]
    },
    {
      "cell_type": "markdown",
      "metadata": {
        "id": "4pQhMeTb9RBN"
      },
      "source": [
        "**Objectives:**\n",
        "\n",
        "- Create title and introducation markdown cells\n",
        "- List popular languages for Data Science\n",
        "- List popular libraries for Data Science\n",
        "- List popular tools for Data Science\n",
        "- Using mutiply and adding operations in python"
      ]
    },
    {
      "cell_type": "markdown",
      "metadata": {
        "id": "NtESCqoY9RBN"
      },
      "source": [
        "## Author's name"
      ]
    },
    {
      "cell_type": "markdown",
      "metadata": {
        "id": "jJclWfRV9RBN"
      },
      "source": [
        "### Junhao Xiong"
      ]
    }
  ],
  "metadata": {
    "kernelspec": {
      "display_name": "Python 3 (ipykernel)",
      "language": "python",
      "name": "python3"
    },
    "language_info": {
      "codemirror_mode": {
        "name": "ipython",
        "version": 3
      },
      "file_extension": ".py",
      "mimetype": "text/x-python",
      "name": "python",
      "nbconvert_exporter": "python",
      "pygments_lexer": "ipython3",
      "version": "3.11.9"
    },
    "colab": {
      "provenance": []
    }
  },
  "nbformat": 4,
  "nbformat_minor": 0
}